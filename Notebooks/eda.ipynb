{
 "cells": [
  {
   "cell_type": "markdown",
   "metadata": {},
   "source": [
    "# Setup"
   ]
  },
  {
   "cell_type": "code",
   "execution_count": 79,
   "metadata": {},
   "outputs": [],
   "source": [
    "\n",
    "import pandas as pd\n",
    "import numpy as np\n",
    "import matplotlib.pyplot as plt\n",
    "import seaborn as sns\n",
    "from sklearn.model_selection import train_test_split\n",
    "from sklearn.feature_extraction.text import TfidfVectorizer\n",
    "\n",
    "from statsmodels.stats.multitest import multipletests\n",
    "\n"
   ]
  },
  {
   "cell_type": "code",
   "execution_count": 2,
   "metadata": {},
   "outputs": [
    {
     "data": {
      "text/plain": [
       "Index(['text', 'labels'], dtype='object')"
      ]
     },
     "execution_count": 2,
     "metadata": {},
     "output_type": "execute_result"
    }
   ],
   "source": [
    "df = pd.read_json(\"../data/craft-ml-data.jsonl\", lines=True)\n",
    "df.columns"
   ]
  },
  {
   "cell_type": "markdown",
   "metadata": {},
   "source": [
    "# Label Counts"
   ]
  },
  {
   "cell_type": "code",
   "execution_count": 3,
   "metadata": {},
   "outputs": [
    {
     "data": {
      "text/plain": [
       "labels\n",
       "[]                                                                    137\n",
       "[natural_disasters]                                                    41\n",
       "[labor_workforce_compliance_human_rights]                              30\n",
       "[financial_distress]                                                   29\n",
       "[geopolitical_issues]                                                  27\n",
       "[financial_success]                                                    26\n",
       "[investments]                                                          26\n",
       "[supplychain]                                                          25\n",
       "[epidemics_and_pandemics]                                              24\n",
       "[financial_success, investments]                                        6\n",
       "[epidemics_and_pandemics, supplychain]                                  6\n",
       "[geopolitical_issues, supplychain]                                      4\n",
       "[financial_distress, supplychain]                                       4\n",
       "[geopolitical_issues, investments]                                      3\n",
       "[financial_distress, investments]                                       3\n",
       "[geopolitical_issues, financial_distress]                               2\n",
       "[epidemics_and_pandemics, financial_success, supplychain]               1\n",
       "[epidemics_and_pandemics, financial_distress, investments]              1\n",
       "[investments, supplychain]                                              1\n",
       "[epidemics_and_pandemics, labor_workforce_compliance_human_rights]      1\n",
       "[epidemics_and_pandemics, financial_success]                            1\n",
       "Name: count, dtype: int64"
      ]
     },
     "execution_count": 3,
     "metadata": {},
     "output_type": "execute_result"
    }
   ],
   "source": [
    "df[\"labels\"].value_counts()"
   ]
  },
  {
   "cell_type": "markdown",
   "metadata": {},
   "source": [
    "### Takeaway\n",
    "\n",
    "Need to accoutn for multiclass"
   ]
  },
  {
   "cell_type": "code",
   "execution_count": 52,
   "metadata": {},
   "outputs": [
    {
     "name": "stdout",
     "output_type": "stream",
     "text": [
      "labels\n",
      "natural_disasters                          41\n",
      "supplychain                                41\n",
      "investments                                40\n",
      "financial_distress                         39\n",
      "geopolitical_issues                        36\n",
      "epidemics_and_pandemics                    34\n",
      "financial_success                          34\n",
      "labor_workforce_compliance_human_rights    31\n",
      "Name: count, dtype: int64\n"
     ]
    }
   ],
   "source": [
    "all_labels = df.explode('labels')\n",
    "label_counts = all_labels['labels'].value_counts()\n",
    "print(label_counts)"
   ]
  },
  {
   "cell_type": "markdown",
   "metadata": {},
   "source": [
    "### Takeaway\n",
    "\n",
    "Dataset is relatively balanced"
   ]
  },
  {
   "cell_type": "markdown",
   "metadata": {},
   "source": [
    "# Data Split"
   ]
  },
  {
   "cell_type": "markdown",
   "metadata": {},
   "source": [
    "### Perform train test split before EDA to prevent peeking"
   ]
  },
  {
   "cell_type": "code",
   "execution_count": 5,
   "metadata": {},
   "outputs": [
    {
     "name": "stdout",
     "output_type": "stream",
     "text": [
      "Labeled: 261, Unlabeled: 137\n",
      "Train size: 208, Test size: 53\n"
     ]
    }
   ],
   "source": [
    "labeled_df = df[df['labels'].str.len() > 0]\n",
    "unlabeled_df = df[df['labels'].str.len() == 0]\n",
    "\n",
    "print(f\"Labeled: {len(labeled_df)}, Unlabeled: {len(unlabeled_df)}\")\n",
    "\n",
    "train_df, test_df = train_test_split(\n",
    "    labeled_df, test_size=0.2, random_state=42\n",
    ")\n",
    "\n",
    "print(f\"Train size: {len(train_df)}, Test size: {len(test_df)}\")\n",
    "\n",
    "test_df.to_json(\"../data/craft-ml-data-test.jsonl\", lines=True, orient=\"records\")\n",
    "\n",
    "test_df.to_json(\n",
    "    \"../data/craft-ml-data-train.jsonl\", lines=True, orient=\"records\"\n",
    ")\n",
    "\n",
    "unlabeled_df.to_json(\n",
    "    \"../data/craft-ml-data-predict.jsonl\", lines=True, orient=\"records\"\n",
    ")\n"
   ]
  },
  {
   "cell_type": "markdown",
   "metadata": {},
   "source": [
    "# Text Length By Label"
   ]
  },
  {
   "cell_type": "code",
   "execution_count": 6,
   "metadata": {},
   "outputs": [],
   "source": [
    "train_df = pd.read_json(\"../data/craft-ml-data-train.jsonl\", lines=True)\n",
    "\n",
    "train_df['char_count'] = train_df['text'].str.len()\n",
    "train_df['word_count'] = train_df['text'].str.split().str.len()\n",
    "\n",
    "train_df_exp = train_df.explode('labels')"
   ]
  },
  {
   "cell_type": "code",
   "execution_count": 25,
   "metadata": {},
   "outputs": [
    {
     "data": {
      "image/png": "[encoded data removed]",
      "text/plain": [
       "<Figure size 1200x600 with 1 Axes>"
      ]
     },
     "metadata": {},
     "output_type": "display_data"
    }
   ],
   "source": [
    "plt.figure(figsize=(12, 6))\n",
    "\n",
    "sns.stripplot(\n",
    "    x='labels', y='word_count', data=train_df_exp,\n",
    "    jitter=True, alpha=0.4, color='blue', size=4\n",
    ")\n",
    "plt.tick_params(axis='x', rotation=45)\n",
    "\n",
    "plt.tight_layout()\n",
    "plt.show()"
   ]
  },
  {
   "cell_type": "markdown",
   "metadata": {},
   "source": [
    "### Takeaway\n",
    "\n",
    "Means appear about the same, Variances may differe but low sample count. Run a test to confirm"
   ]
  },
  {
   "cell_type": "code",
   "execution_count": 13,
   "metadata": {},
   "outputs": [
    {
     "name": "stdout",
     "output_type": "stream",
     "text": [
      "                 sum_sq    df         F    PR(>F)\n",
      "C(labels)  3.816162e+06   7.0  0.787836  0.600696\n",
      "Residual   3.529091e+07  51.0       NaN       NaN\n"
     ]
    }
   ],
   "source": [
    "import statsmodels.api as sm\n",
    "from statsmodels.formula.api import ols\n",
    "\n",
    "model = ols('word_count ~ C(labels)', data=train_df_exp).fit()\n",
    "\n",
    "anova_table = sm.stats.anova_lm(model, typ=2)\n",
    "print(anova_table)"
   ]
  },
  {
   "cell_type": "markdown",
   "metadata": {},
   "source": [
    "### Takeaway\n",
    "\n",
    "No signifficant differences"
   ]
  },
  {
   "cell_type": "code",
   "execution_count": 15,
   "metadata": {},
   "outputs": [
    {
     "data": {
      "image/png": "[encoded data removed]",
      "text/plain": [
       "<Figure size 600x600 with 3 Axes>"
      ]
     },
     "metadata": {},
     "output_type": "display_data"
    },
    {
     "data": {
      "text/html": [
       "<div>\n",
       "<style scoped>\n",
       "    .dataframe tbody tr th:only-of-type {\n",
       "        vertical-align: middle;\n",
       "    }\n",
       "\n",
       "    .dataframe tbody tr th {\n",
       "        vertical-align: top;\n",
       "    }\n",
       "\n",
       "    .dataframe thead th {\n",
       "        text-align: right;\n",
       "    }\n",
       "</style>\n",
       "<table border=\"1\" class=\"dataframe\">\n",
       "  <thead>\n",
       "    <tr style=\"text-align: right;\">\n",
       "      <th></th>\n",
       "      <th>char_count</th>\n",
       "      <th>word_count</th>\n",
       "    </tr>\n",
       "  </thead>\n",
       "  <tbody>\n",
       "    <tr>\n",
       "      <th>char_count</th>\n",
       "      <td>1.00000</td>\n",
       "      <td>0.99899</td>\n",
       "    </tr>\n",
       "    <tr>\n",
       "      <th>word_count</th>\n",
       "      <td>0.99899</td>\n",
       "      <td>1.00000</td>\n",
       "    </tr>\n",
       "  </tbody>\n",
       "</table>\n",
       "</div>"
      ],
      "text/plain": [
       "            char_count  word_count\n",
       "char_count     1.00000     0.99899\n",
       "word_count     0.99899     1.00000"
      ]
     },
     "execution_count": 15,
     "metadata": {},
     "output_type": "execute_result"
    }
   ],
   "source": [
    "sns.jointplot(data=train_df, x=\"word_count\", y=\"char_count\", kind=\"hex\")\n",
    "plt.show()\n",
    "\n",
    "train_df_exp[[\"char_count\", \"word_count\"]].corr()"
   ]
  },
  {
   "cell_type": "markdown",
   "metadata": {},
   "source": [
    "### Takeaway\n",
    "\n",
    "Word count and char count represent the same signal"
   ]
  },
  {
   "cell_type": "markdown",
   "metadata": {},
   "source": [
    "# Keyword Exploration"
   ]
  },
  {
   "cell_type": "markdown",
   "metadata": {},
   "source": [
    "## TFIDF"
   ]
  },
  {
   "cell_type": "code",
   "execution_count": 111,
   "metadata": {},
   "outputs": [],
   "source": [
    "vect = TfidfVectorizer(\n",
    "    max_df = .75 # Remove words in more than 75% of the documents\n",
    "    ,min_df = 5 # Only keep words in at least 5 documents\n",
    "    ,ngram_range= (1,2) # unigrams and bigrams\n",
    "    ,stop_words = \"english\"\n",
    ")\n",
    "\n",
    "X_tfidf = vect.fit_transform(train_df_exp['text'])\n",
    "feature_names = np.array(vect.get_feature_names_out())\n"
   ]
  },
  {
   "cell_type": "code",
   "execution_count": 112,
   "metadata": {},
   "outputs": [
    {
     "name": "stdout",
     "output_type": "stream",
     "text": [
      "Top 20 words by TFIDF score:\n",
      " • said\n",
      " • company\n",
      " • supply\n",
      " • year\n",
      " • billion\n",
      " • china\n",
      " • supply chain\n",
      " • million\n",
      " • chain\n",
      " • data\n",
      " • states\n",
      " • court\n",
      " • market\n",
      " • new\n",
      " • sales\n",
      " • companies\n",
      " • air\n",
      " • business\n",
      " • bankruptcy\n",
      " • according\n"
     ]
    }
   ],
   "source": [
    "tfidf_sums = np.array(X_tfidf.sum(axis=0)).ravel()\n",
    "top20 = feature_names[np.argsort(tfidf_sums)[-20:]][::-1]\n",
    "\n",
    "print(\"Top 20 words by TFIDF score:\")\n",
    "for term in top20:\n",
    "    print(\" •\", term)"
   ]
  },
  {
   "cell_type": "code",
   "execution_count": 113,
   "metadata": {},
   "outputs": [
    {
     "name": "stdout",
     "output_type": "stream",
     "text": [
      "['natural_disasters' 'epidemics_and_pandemics' 'supplychain'\n",
      " 'geopolitical_issues' 'investments' 'financial_distress'\n",
      " 'financial_success' 'labor_workforce_compliance_human_rights']\n"
     ]
    }
   ],
   "source": [
    "print(labels)"
   ]
  },
  {
   "cell_type": "code",
   "execution_count": 114,
   "metadata": {},
   "outputs": [
    {
     "data": {
      "text/html": [
       "<div>\n",
       "<style scoped>\n",
       "    .dataframe tbody tr th:only-of-type {\n",
       "        vertical-align: middle;\n",
       "    }\n",
       "\n",
       "    .dataframe tbody tr th {\n",
       "        vertical-align: top;\n",
       "    }\n",
       "\n",
       "    .dataframe thead th {\n",
       "        text-align: right;\n",
       "    }\n",
       "</style>\n",
       "<table border=\"1\" class=\"dataframe\">\n",
       "  <thead>\n",
       "    <tr style=\"text-align: right;\">\n",
       "      <th></th>\n",
       "      <th>label</th>\n",
       "      <th>top_terms_sum</th>\n",
       "      <th>top_terms_max</th>\n",
       "    </tr>\n",
       "  </thead>\n",
       "  <tbody>\n",
       "    <tr>\n",
       "      <th>0</th>\n",
       "      <td>natural_disasters</td>\n",
       "      <td>[air, weather, tuesday, said, delivery, delays, says, flooding, damage, amazon, days, 000, aug, food, record]</td>\n",
       "      <td>[air, tuesday, aug, says, delivery, 000, support, record, food, beijing, emergency, china, near, weather, storm]</td>\n",
       "    </tr>\n",
       "    <tr>\n",
       "      <th>1</th>\n",
       "      <td>epidemics_and_pandemics</td>\n",
       "      <td>[said, percent, pandemic, supply, supply chain, chain, freight, covid 19, air, risk, covid, sales, company, 19, countries]</td>\n",
       "      <td>[freight, air, percent, won, sales, said, risk, tuesday, oil, supply chain, countries, brands, supply, response, china]</td>\n",
       "    </tr>\n",
       "    <tr>\n",
       "      <th>2</th>\n",
       "      <td>supplychain</td>\n",
       "      <td>[supply, supply chain, chain, design, states, united states, united, shortages, raw, materials, innovation, oil, product, said, freight]</td>\n",
       "      <td>[design, shortages, innovation, plant, major, climate, oil, supply chain, supply, united states, health, states, canada, chain, product]</td>\n",
       "    </tr>\n",
       "    <tr>\n",
       "      <th>3</th>\n",
       "      <td>geopolitical_issues</td>\n",
       "      <td>[china, data, security, supply, said, taiwan, supply chain, researchers, chain, north, cross, year, united states, states, united]</td>\n",
       "      <td>[china, taiwan, data, supply, researchers, north, bank, innovation, cross, supply chain, year, security, adjusted, chain, united states]</td>\n",
       "    </tr>\n",
       "    <tr>\n",
       "      <th>4</th>\n",
       "      <td>investments</td>\n",
       "      <td>[company, billion, acquisition, securities, sales, debt, capital, year, said, term, offering, million, ripple, investors, market]</td>\n",
       "      <td>[ripple, sales, securities, acquisition, debt, cloud, prices, climate, term, billion, digital, company, oil, 2022, court]</td>\n",
       "    </tr>\n",
       "    <tr>\n",
       "      <th>5</th>\n",
       "      <td>financial_distress</td>\n",
       "      <td>[bankruptcy, court, group, plan, said, retail, company, business, filed, operations, consumers, home, investors, rights, filing]</td>\n",
       "      <td>[bankruptcy, group, retail, court, home, consumers, rights, transaction, offer, said, spending, administration, earnings, resources, debt]</td>\n",
       "    </tr>\n",
       "    <tr>\n",
       "      <th>6</th>\n",
       "      <td>financial_success</td>\n",
       "      <td>[billion, company, year, growth, shares, cloud, capital, said, million, price, stock, market, net, traffic, prices]</td>\n",
       "      <td>[traffic, debt, cloud, shares, prices, billion, cybersecurity, 400, year, oil, 2022, acquired, strong, carbon, software]</td>\n",
       "    </tr>\n",
       "    <tr>\n",
       "      <th>7</th>\n",
       "      <td>labor_workforce_compliance_human_rights</td>\n",
       "      <td>[law, workers, ai, court, labor, work, tech, working, company, china, legal, like, companies, organization, fair]</td>\n",
       "      <td>[tech, court, workers, labor, law, china, ai, region, shortages, company, research, legal, goods, high, supply]</td>\n",
       "    </tr>\n",
       "  </tbody>\n",
       "</table>\n",
       "</div>"
      ],
      "text/plain": [
       "                                     label  \\\n",
       "0                        natural_disasters   \n",
       "1                  epidemics_and_pandemics   \n",
       "2                              supplychain   \n",
       "3                      geopolitical_issues   \n",
       "4                              investments   \n",
       "5                       financial_distress   \n",
       "6                        financial_success   \n",
       "7  labor_workforce_compliance_human_rights   \n",
       "\n",
       "                                                                                                                              top_terms_sum  \\\n",
       "0                             [air, weather, tuesday, said, delivery, delays, says, flooding, damage, amazon, days, 000, aug, food, record]   \n",
       "1                [said, percent, pandemic, supply, supply chain, chain, freight, covid 19, air, risk, covid, sales, company, 19, countries]   \n",
       "2  [supply, supply chain, chain, design, states, united states, united, shortages, raw, materials, innovation, oil, product, said, freight]   \n",
       "3        [china, data, security, supply, said, taiwan, supply chain, researchers, chain, north, cross, year, united states, states, united]   \n",
       "4         [company, billion, acquisition, securities, sales, debt, capital, year, said, term, offering, million, ripple, investors, market]   \n",
       "5          [bankruptcy, court, group, plan, said, retail, company, business, filed, operations, consumers, home, investors, rights, filing]   \n",
       "6                       [billion, company, year, growth, shares, cloud, capital, said, million, price, stock, market, net, traffic, prices]   \n",
       "7                         [law, workers, ai, court, labor, work, tech, working, company, china, legal, like, companies, organization, fair]   \n",
       "\n",
       "                                                                                                                                top_terms_max  \n",
       "0                            [air, tuesday, aug, says, delivery, 000, support, record, food, beijing, emergency, china, near, weather, storm]  \n",
       "1                     [freight, air, percent, won, sales, said, risk, tuesday, oil, supply chain, countries, brands, supply, response, china]  \n",
       "2    [design, shortages, innovation, plant, major, climate, oil, supply chain, supply, united states, health, states, canada, chain, product]  \n",
       "3    [china, taiwan, data, supply, researchers, north, bank, innovation, cross, supply chain, year, security, adjusted, chain, united states]  \n",
       "4                   [ripple, sales, securities, acquisition, debt, cloud, prices, climate, term, billion, digital, company, oil, 2022, court]  \n",
       "5  [bankruptcy, group, retail, court, home, consumers, rights, transaction, offer, said, spending, administration, earnings, resources, debt]  \n",
       "6                    [traffic, debt, cloud, shares, prices, billion, cybersecurity, 400, year, oil, 2022, acquired, strong, carbon, software]  \n",
       "7                             [tech, court, workers, labor, law, china, ai, region, shortages, company, research, legal, goods, high, supply]  "
      ]
     },
     "metadata": {},
     "output_type": "display_data"
    }
   ],
   "source": [
    "n = 15 # Number of top terms to show per label\n",
    "labels = train_df_exp['labels'].unique()\n",
    "rows = []\n",
    "\n",
    "for lbl in labels:\n",
    "    msk = train_df_exp['labels'] == lbl\n",
    "    \n",
    "    top_scores = X_tfidf[msk.values].sum(axis=0).A1\n",
    "    top_terms = feature_names[np.argsort(top_scores)[-n:]][::-1]\n",
    "\n",
    "    max_scores = X_tfidf[msk.values].max(axis=0).toarray().ravel()\n",
    "    top_terms_max = feature_names[np.argsort(max_scores)[-n:]][::-1]\n",
    "\n",
    "    rows.append({\"label\": lbl, \"top_terms_sum\": top_terms.tolist(), \"top_terms_max\": top_terms_max.tolist()})\n",
    "\n",
    "\n",
    "# Dataframe for Display\n",
    "df_top_terms = pd.DataFrame(rows)\n",
    "pd.set_option('display.max_colwidth', None)\n",
    "display(df_top_terms)"
   ]
  },
  {
   "cell_type": "markdown",
   "metadata": {},
   "source": [
    "### Takeaway\n",
    "- Top terms pass the eyeball test. \n",
    "- Some concern with many specific countries being called out in geopolitical issues. This may represent todays issues well but may have issues abstractin to other regions or future challenges\n",
    "- It may be challenging to differentiate between investments and financial succes. these have many of the same top words"
   ]
  },
  {
   "cell_type": "markdown",
   "metadata": {},
   "source": [
    "## Word by Word predictive power"
   ]
  },
  {
   "cell_type": "code",
   "execution_count": 115,
   "metadata": {},
   "outputs": [
    {
     "name": "stdout",
     "output_type": "stream",
     "text": [
      "['air' 'weather' 'tuesday' 'said' 'delivery' 'delays' 'says' 'flooding'\n",
      " 'damage' 'amazon' 'days' '000' 'aug' 'food' 'record' 'percent' 'pandemic'\n",
      " 'supply' 'supply chain' 'chain' 'freight' 'covid 19' 'risk' 'covid'\n",
      " 'sales' 'company' '19' 'countries' 'design' 'states' 'united states'\n",
      " 'united' 'shortages' 'raw' 'materials' 'innovation' 'oil' 'product'\n",
      " 'china' 'data' 'security' 'taiwan' 'researchers' 'north' 'cross' 'year'\n",
      " 'billion' 'acquisition' 'securities' 'debt' 'capital' 'term' 'offering'\n",
      " 'million' 'ripple' 'investors' 'market' 'bankruptcy' 'court' 'group'\n",
      " 'plan' 'retail' 'business' 'filed' 'operations' 'consumers' 'home'\n",
      " 'rights' 'filing' 'growth' 'shares' 'cloud' 'price' 'stock' 'net'\n",
      " 'traffic' 'prices' 'law' 'workers' 'ai' 'labor' 'work' 'tech' 'working'\n",
      " 'legal' 'like' 'companies' 'organization' 'fair']\n"
     ]
    }
   ],
   "source": [
    "top_terms = df_top_terms.explode('top_terms_sum')['top_terms_sum'].unique()\n",
    "print(top_terms)"
   ]
  },
  {
   "cell_type": "code",
   "execution_count": 116,
   "metadata": {},
   "outputs": [
    {
     "data": {
      "text/html": [
       "<div>\n",
       "<style scoped>\n",
       "    .dataframe tbody tr th:only-of-type {\n",
       "        vertical-align: middle;\n",
       "    }\n",
       "\n",
       "    .dataframe tbody tr th {\n",
       "        vertical-align: top;\n",
       "    }\n",
       "\n",
       "    .dataframe thead th {\n",
       "        text-align: right;\n",
       "    }\n",
       "</style>\n",
       "<table border=\"1\" class=\"dataframe\">\n",
       "  <thead>\n",
       "    <tr style=\"text-align: right;\">\n",
       "      <th></th>\n",
       "      <th>term</th>\n",
       "      <th>F</th>\n",
       "      <th>p_raw</th>\n",
       "      <th>p_bonferroni</th>\n",
       "      <th>significant</th>\n",
       "    </tr>\n",
       "  </thead>\n",
       "  <tbody>\n",
       "    <tr>\n",
       "      <th>83</th>\n",
       "      <td>working</td>\n",
       "      <td>6.709483</td>\n",
       "      <td>0.000012</td>\n",
       "      <td>0.001079</td>\n",
       "      <td>True</td>\n",
       "    </tr>\n",
       "    <tr>\n",
       "      <th>57</th>\n",
       "      <td>bankruptcy</td>\n",
       "      <td>6.270449</td>\n",
       "      <td>0.000025</td>\n",
       "      <td>0.002240</td>\n",
       "      <td>True</td>\n",
       "    </tr>\n",
       "    <tr>\n",
       "      <th>77</th>\n",
       "      <td>law</td>\n",
       "      <td>5.694956</td>\n",
       "      <td>0.000067</td>\n",
       "      <td>0.006000</td>\n",
       "      <td>True</td>\n",
       "    </tr>\n",
       "    <tr>\n",
       "      <th>7</th>\n",
       "      <td>flooding</td>\n",
       "      <td>5.667604</td>\n",
       "      <td>0.000071</td>\n",
       "      <td>0.006293</td>\n",
       "      <td>True</td>\n",
       "    </tr>\n",
       "    <tr>\n",
       "      <th>16</th>\n",
       "      <td>pandemic</td>\n",
       "      <td>5.626582</td>\n",
       "      <td>0.000076</td>\n",
       "      <td>0.006760</td>\n",
       "      <td>True</td>\n",
       "    </tr>\n",
       "    <tr>\n",
       "      <th>69</th>\n",
       "      <td>growth</td>\n",
       "      <td>5.363915</td>\n",
       "      <td>0.000121</td>\n",
       "      <td>0.010729</td>\n",
       "      <td>True</td>\n",
       "    </tr>\n",
       "    <tr>\n",
       "      <th>81</th>\n",
       "      <td>work</td>\n",
       "      <td>5.113082</td>\n",
       "      <td>0.000189</td>\n",
       "      <td>0.016784</td>\n",
       "      <td>True</td>\n",
       "    </tr>\n",
       "    <tr>\n",
       "      <th>60</th>\n",
       "      <td>plan</td>\n",
       "      <td>5.107075</td>\n",
       "      <td>0.000191</td>\n",
       "      <td>0.016966</td>\n",
       "      <td>True</td>\n",
       "    </tr>\n",
       "  </tbody>\n",
       "</table>\n",
       "</div>"
      ],
      "text/plain": [
       "          term         F     p_raw  p_bonferroni  significant\n",
       "83     working  6.709483  0.000012      0.001079         True\n",
       "57  bankruptcy  6.270449  0.000025      0.002240         True\n",
       "77         law  5.694956  0.000067      0.006000         True\n",
       "7     flooding  5.667604  0.000071      0.006293         True\n",
       "16    pandemic  5.626582  0.000076      0.006760         True\n",
       "69      growth  5.363915  0.000121      0.010729         True\n",
       "81        work  5.113082  0.000189      0.016784         True\n",
       "60        plan  5.107075  0.000191      0.016966         True"
      ]
     },
     "metadata": {},
     "output_type": "display_data"
    }
   ],
   "source": [
    "import numpy as np\n",
    "import pandas as pd\n",
    "import statsmodels.api as sm\n",
    "import statsmodels.formula.api as smf\n",
    "\n",
    "results = []\n",
    "for term in top_terms:\n",
    "\n",
    "    i = np.where(feature_names == term)[0][0]\n",
    "    vals = X_tfidf[:, i].toarray().ravel()\n",
    "    df_anova = pd.DataFrame({\n",
    "        \"tfidf\": vals,\n",
    "        \"label\": train_df_exp[\"labels\"].values\n",
    "    })\n",
    "    \n",
    "    #ols model and test for signifficance\n",
    "    model = smf.ols(\"tfidf ~ C(label)\", data=df_anova).fit()\n",
    "    aov = sm.stats.anova_lm(model, typ=2)\n",
    "    \n",
    "\n",
    "    # Extract and structure data\n",
    "    f_val = aov.loc[\"C(label)\", \"F\"]\n",
    "    p_val = aov.loc[\"C(label)\", \"PR(>F)\"]\n",
    "    results.append({\n",
    "        \"term\": term,\n",
    "        \"F\": f_val,\n",
    "        \"p_raw\": p_val\n",
    "    })\n",
    "\n",
    "# bonferroni adjustment since we are doing many tests\n",
    "anova_df = pd.DataFrame(results).sort_values(\"p_raw\")\n",
    "pvals = anova_df[\"p_raw\"].values\n",
    "reject, p_bonf, _, _ = multipletests(pvals, alpha=0.05, method=\"bonferroni\")\n",
    "\n",
    "anova_df[\"p_bonferroni\"] = p_bonf\n",
    "anova_df[\"significant\"] = reject\n",
    "\n",
    "anova_df = anova_df.sort_values(\"p_bonferroni\")\n",
    "display(anova_df[anova_df[\"significant\"] == True])"
   ]
  },
  {
   "cell_type": "markdown",
   "metadata": {},
   "source": [
    "### Takeaway \n",
    "There is signal in tfidf values directly for classificaiton even after bonferroni corrections. This provides confidence in our ability to classify documents"
   ]
  },
  {
   "cell_type": "markdown",
   "metadata": {},
   "source": [
    "# Dimensionality Reduction and document similarity"
   ]
  },
  {
   "cell_type": "code",
   "execution_count": null,
   "metadata": {},
   "outputs": [],
   "source": []
  },
  {
   "cell_type": "markdown",
   "metadata": {},
   "source": [
    "### Takeaway\n",
    "\n",
    "I dont think we really have enough documents for this exploration to make sense. This could apply with a much larger training set"
   ]
  }
 ],
 "metadata": {
  "kernelspec": {
   "display_name": "document-tagger",
   "language": "python",
   "name": "python3"
  },
  "language_info": {
   "codemirror_mode": {
    "name": "ipython",
    "version": 3
   },
   "file_extension": ".py",
   "mimetype": "text/x-python",
   "name": "python",
   "nbconvert_exporter": "python",
   "pygments_lexer": "ipython3",
   "version": "3.10.17"
  }
 },
 "nbformat": 4,
 "nbformat_minor": 2
}
